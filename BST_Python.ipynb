{
  "cells": [
    {
      "cell_type": "code",
      "execution_count": 2,
      "metadata": {
        "id": "l7ePYup5XUWj"
      },
      "outputs": [],
      "source": [
        "myDictionary = {'a':8, 'b':6, 'c':5}\n"
      ]
    },
    {
      "cell_type": "code",
      "execution_count": 3,
      "metadata": {
        "colab": {
          "base_uri": "https://localhost:8080/"
        },
        "id": "AG2B3F5PYpMD",
        "outputId": "8c502112-5987-437a-8623-544e097584c3"
      },
      "outputs": [
        {
          "data": {
            "text/plain": [
              "6"
            ]
          },
          "execution_count": 3,
          "metadata": {},
          "output_type": "execute_result"
        }
      ],
      "source": [
        "myDictionary['b']"
      ]
    },
    {
      "cell_type": "code",
      "execution_count": 4,
      "metadata": {
        "colab": {
          "base_uri": "https://localhost:8080/"
        },
        "id": "e-R5551fYwBy",
        "outputId": "85db15c1-ecd9-45b1-f202-c0e46f69e06e"
      },
      "outputs": [
        {
          "data": {
            "text/plain": [
              "6"
            ]
          },
          "execution_count": 4,
          "metadata": {},
          "output_type": "execute_result"
        }
      ],
      "source": [
        "myDictionary.__getitem__('b')"
      ]
    },
    {
      "cell_type": "code",
      "execution_count": 16,
      "metadata": {
        "id": "J9t7kR2Zgm1h"
      },
      "outputs": [],
      "source": [
        "class TreeNode:\n",
        "    def __init__(self,key,val,left=None,right=None,\n",
        "                                                    parent=None):\n",
        "          self.key = key\n",
        "          self.payload = val\n",
        "          self.leftChild = left\n",
        "          self.rightChild = right\n",
        "          self.parent = parent\n",
        "    \n",
        "    def hasLeftChild(self):\n",
        "        return self.leftChild\n",
        "\n",
        "    def hasRightChild(self):\n",
        "        return self.rightChild\n",
        "    \n",
        "    def isLeftChild(self):\n",
        "        return self.parent and self.parent.leftChild == self\n",
        "\n",
        "    def isRightChild(self):\n",
        "        return self.parent and self.parent.rightChild == self\n",
        "\n",
        "    def isRoot(self):\n",
        "        return not self.parent\n",
        "\n",
        "    def isLeaf(self):\n",
        "        return not (self.rightChild or self.leftChild)\n",
        "\n",
        "    def hasAnyChildren(self):\n",
        "        return self.rightChild or self.leftChild\n",
        "\n",
        "    def hasBothChildren(self):\n",
        "        return self.rightChild and self.leftChild\n",
        "\n",
        "    def replaceNodeData(self,key,value,lc,rc):\n",
        "        self.key = key\n",
        "        self.payload = value\n",
        "        self.leftChild = lc\n",
        "        self.rightChild = rc\n",
        "        if self.hasLeftChild():\n",
        "            self.leftChild.parent = self\n",
        "        if self.hasRightChild():\n",
        "            self.rightChild.parent = self"
      ]
    },
    {
      "cell_type": "code",
      "execution_count": 24,
      "metadata": {
        "id": "h0Z8ZmqBf3Ve"
      },
      "outputs": [],
      "source": [
        "class BinarySearchTree:\n",
        "\n",
        "    def __init__(self):\n",
        "        self.root = None\n",
        "        self.size = 0\n",
        "\n",
        "    def length(self):\n",
        "        return self.size\n",
        "\n",
        "    def __len__(self):\n",
        "        return self.size\n",
        "\n",
        "    def __iter__(self):\n",
        "        return self.root.__iter__()\n",
        "\n",
        "    ##### annotate above here\n",
        "\n",
        "    def put(self,key,val):\n",
        "      if self.root:\n",
        "        self._put(key,val, self.root)\n",
        "      else:\n",
        "        self.root = TreeNode(key,val)\n",
        "      self.size = self.size + 1\n",
        "\n",
        "    def _put(self,key,val,currentNode):\n",
        "      if key < currentNode.key:\n",
        "        if currentNode.hasLeftChild():\n",
        "          self._put(key,val,currentNode.leftChild)\n",
        "        else:\n",
        "          currentNode.leftChild = TreeNode(key,val,parent=currentNode)\n",
        "      else:\n",
        "        if currentNode.hasRightChild():\n",
        "            self._put(key,val,currentNode.rightChild)\n",
        "        else:\n",
        "          currentNode.rightChild = TreeNode(key,val,parent=currentNode)\n",
        "\n",
        "    def get(self,key):\n",
        "      if self.root:\n",
        "        res = self._get(key,self.root)\n",
        "        if res:\n",
        "          return res.payload\n",
        "        else:\n",
        "          return None\n",
        "      else:\n",
        "        return None\n",
        "\n",
        "    def _get(self,key,currentNode):\n",
        "      if not currentNode:\n",
        "        return None\n",
        "      elif currentNode.key == key:\n",
        "        return currentNode\n",
        "      elif key < currentNode.key:\n",
        "        return self._get(key,currentNode.leftChild)\n",
        "      else:\n",
        "        return self._get(key,currentNode.rightChild)\n",
        "\n",
        "      def __getitem__(self,key):\n",
        "        return self.get(key)\n",
        "\n",
        "\n"
      ]
    },
    {
      "cell_type": "code",
      "execution_count": 31,
      "metadata": {
        "id": "K1RFPmwbmXck"
      },
      "outputs": [
        {
          "ename": "TypeError",
          "evalue": "'BinarySearchTree' object is not subscriptable",
          "output_type": "error",
          "traceback": [
            "\u001b[0;31m---------------------------------------------------------------------------\u001b[0m",
            "\u001b[0;31mTypeError\u001b[0m                                 Traceback (most recent call last)",
            "Cell \u001b[0;32mIn[31], line 4\u001b[0m\n\u001b[1;32m      1\u001b[0m Gary \u001b[38;5;241m=\u001b[39m BinarySearchTree()\n\u001b[1;32m      3\u001b[0m Gary\u001b[38;5;241m.\u001b[39mget(\u001b[38;5;124m'\u001b[39m\u001b[38;5;124m70\u001b[39m\u001b[38;5;124m'\u001b[39m)\n\u001b[0;32m----> 4\u001b[0m Gary[\u001b[38;5;124m'\u001b[39m\u001b[38;5;124m70\u001b[39m\u001b[38;5;124m'\u001b[39m]\n",
            "\u001b[0;31mTypeError\u001b[0m: 'BinarySearchTree' object is not subscriptable"
          ]
        }
      ],
      "source": [
        "Gary = BinarySearchTree()\n",
        "\n",
        "Gary.get('70')\n",
        "Gary['70']"
      ]
    }
  ],
  "metadata": {
    "colab": {
      "provenance": []
    },
    "kernelspec": {
      "display_name": "Python 3",
      "name": "python3"
    },
    "language_info": {
      "codemirror_mode": {
        "name": "ipython",
        "version": 3
      },
      "file_extension": ".py",
      "mimetype": "text/x-python",
      "name": "python",
      "nbconvert_exporter": "python",
      "pygments_lexer": "ipython3",
      "version": "3.11.7"
    }
  },
  "nbformat": 4,
  "nbformat_minor": 0
}
