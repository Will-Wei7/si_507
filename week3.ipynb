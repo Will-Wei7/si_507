{
  "cells": [
    {
      "cell_type": "markdown",
      "metadata": {
        "id": "H9iCQ_WgV4gR"
      },
      "source": [
        "# **http://tinyurl.com/gerry507**\n",
        "\n",
        "So far in our programming education we have primarily completed tasks that are easily handled through basic data structures such as strings, lists, tuples, dictionaries, and eventually dataframes. Over the following weeks we will introduce a series of advanced data structures. First, I want to motivate this unit, by examining a problem that is not easily solved with the data structures we have so far.\n",
        "\n",
        "On February 2nd the Michigan Independent Redistricting Commission published the following draft maps https://www.michigan.gov/micrc/mapping-process-2024/draft-proposed-maps and they seek public comment until Feb 23.  You can read about the background of the redistricting process at this link:  https://news.bloomberglaw.com/litigation/michigan-legislature-map-tossed-in-seismic-blow-to-commissions\n",
        "\n",
        "Over the next several weeks I want to give you the tools to analyze the proposed districting maps, and come up with your own. We will learn how advanced data structures and algorithms are used in this process.\n",
        "\n",
        "For today, lets use what we learned last week about the syntax of user-defined classes to build the tools for drawing districts. Take a look at the following code cell."
      ]
    },
    {
      "cell_type": "code",
      "execution_count": null,
      "metadata": {
        "colab": {
          "base_uri": "https://localhost:8080/",
          "height": 406
        },
        "id": "dLI9uK_VVzp0",
        "outputId": "67d6a42f-3668-4a35-f382-6b79343baf25"
      },
      "outputs": [
        {
          "data": {
            "image/png": "[encoded data removed]",
            "text/plain": [
              "<Figure size 640x480 with 1 Axes>"
            ]
          },
          "metadata": {},
          "output_type": "display_data"
        }
      ],
      "source": [
        "# 1) Match the comments in teh cod the lines or sections of the following code\n",
        "# the comments are not in the  order the code is\n",
        "\n",
        "# 2) Check the matplotlib documentation add add a black border to each square\n",
        "\n",
        "## Turn off axis labels and ticks\n",
        "## Call the function with a 4x8 grid\n",
        "\n",
        "\n",
        "import matplotlib.pyplot as plt\n",
        "\n",
        "def create_colored_grid(rows, cols):\n",
        "    ## Create a figure and axis\n",
        "    fig, ax = plt.subplots()\n",
        "    ## Define the colors you want to use\n",
        "    colors = ['#FF6F61', '#6B4226', '#98DDCA', '#E5A8E2']\n",
        "    ## Iterate through rows and columns to create rectangles\n",
        "    for i in range(rows):\n",
        "        for j in range(cols):\n",
        "            ## Calculate the position of the rectangle\n",
        "            x = j\n",
        "            y = i\n",
        "            ## Add a rectangle to the plot with the specified color\n",
        "            ax.add_patch(plt.Rectangle((x, y), 1, 1, color=colors[(i + j) % len(colors)]))\n",
        "    ## Set axis limits and show the plo\n",
        "    ax.set_xlim(0, cols)\n",
        "    ax.set_ylim(0, rows)\n",
        "    plt.axis('equal')\n",
        "    plt.axis('off')\n",
        "    plt.show()\n",
        "\n",
        "create_colored_grid(4, 8)\n",
        "\n",
        "# Share a screenshot of your answer at tinyurl.com/gerry507jam1"
      ]
    },
    {
      "cell_type": "markdown",
      "metadata": {
        "id": "9g-i0J2tXup5"
      },
      "source": [
        "Great now that we understand how to use matplotlib within a function, lets think about how we could use, custom classes to add the rectangles instead."
      ]
    },
    {
      "cell_type": "code",
      "execution_count": null,
      "metadata": {
        "colab": {
          "base_uri": "https://localhost:8080/",
          "height": 406
        },
        "id": "w9WYyKJ-oF_K",
        "outputId": "e2928cf3-e4e5-4cd6-8a95-c6ea40979d0c"
      },
      "outputs": [
        {
          "data": {
            "image/png": "[encoded data removed]",
            "text/plain": [
              "<Figure size 640x480 with 1 Axes>"
            ]
          },
          "metadata": {},
          "output_type": "display_data"
        }
      ],
      "source": [
        "\n",
        "# Create a user-defined class called ColoredRectangles with a method called draw\n",
        "# what input arguments are needed?\n",
        "# if you need help - check misorderd lines of the necessary code\n",
        "# at the following link: tinyurl.com/ColoredRectParsons\n",
        "class ColoredRectangles:\n",
        "  def __init__(self, x, y, color):\n",
        "    self.x = x\n",
        "    self.y = y\n",
        "    self.color = color\n",
        "\n",
        "  def draw(self, ax):\n",
        "    ax.add_patch(plt.Rectangle((self.x, self.y), 1, 1, facecolor = self.color, edgecolor = 'black'))\n",
        "\n",
        "def create_colored_grid(rows, cols):\n",
        "    # Create a figure and axis\n",
        "    fig, ax = plt.subplots()\n",
        "\n",
        "    # Define stylish pastel colors\n",
        "    colors = ['#FF6F61', '#6B4226', '#98DDCA', '#E5A8E2']\n",
        "\n",
        "    # Create rectangles with List Comprehension\n",
        "    colored_rect = [ColoredRectangles(x,y, color=colors[x//2]) for x in range(8) for y in range(4)]\n",
        "\n",
        "    for rect in colored_rect:\n",
        "      rect.draw(ax) # Draw the rectangle\n",
        "\n",
        "    ax.set_xlim(0, cols)     # Set axis limits after drawing rectangles\n",
        "    ax.set_ylim(0, rows)\n",
        "\n",
        "    # Set equal aspect ratio, turn off axis labels and ticks, and show the plot\n",
        "    plt.axis('equal')\n",
        "    plt.axis('off')\n",
        "    plt.show()\n",
        "\n",
        "# Call the function with a 4x8 grid\n",
        "create_colored_grid(4, 8)\n"
      ]
    },
    {
      "cell_type": "markdown",
      "metadata": {
        "id": "AQwWaGor-U5J"
      },
      "source": [
        "Now, that we have some 'districts' lets create some citizens - lets randomly place a red or blue circle in each square.  Check the matplotlib documentation for how to plot a circle instead of a rectangle. What input arguments do you ahve to modify? Lets share our answers at"
      ]
    },
    {
      "cell_type": "code",
      "execution_count": null,
      "metadata": {
        "colab": {
          "base_uri": "https://localhost:8080/",
          "height": 406
        },
        "id": "cBCPL_gzoIrH",
        "outputId": "fe2d81a5-d4cd-480a-eaef-b8b0b35ae282"
      },
      "outputs": [
        {
          "data": {
            "image/png": "[encoded data removed]",
            "text/plain": [
              "<Figure size 640x480 with 1 Axes>"
            ]
          },
          "metadata": {},
          "output_type": "display_data"
        }
      ],
      "source": [
        "import random as random\n",
        "class Precinct:\n",
        "  def __init__(self, x,y,color):\n",
        "    self.x = x\n",
        "    self.y = y\n",
        "    self.color = color\n",
        "  def draw(self,ax):\n",
        "    ax.add_patch(plt.Rectangle((self.x, self.y), 1, 1, facecolor=self.color, edgecolor='black'))\n",
        "\n",
        "class Voters:\n",
        "  def __init__(self, x,y,color):\n",
        "    self.x = x\n",
        "    self.y = y\n",
        "    self.color = color\n",
        "  def draw(self, ax):\n",
        "    ax.add_patch(plt.Circle((self.x+.5, self.y+.5), radius = 0.3, facecolor=self.color, edgecolor='black'))\n",
        "\n",
        "\n",
        "def create_colored_grid(rows, cols):\n",
        "    # Create a figure and axis\n",
        "    fig, ax = plt.subplots()\n",
        "\n",
        "    # Define stylish pastel colors\n",
        "    colors = ['#FF6F61', '#6B4226', '#98DDCA', '#E5A8E2']\n",
        "\n",
        "    # Create rectangles with List Comprehension\n",
        "    colored_rect = [Precinct(x,y, color=colors[x//2]) for x in range(8) for y in range(4)]\n",
        "\n",
        "    for rect in colored_rect:\n",
        "      rect.draw(ax) # Draw the rectangle\n",
        "\n",
        "    electorate = [Voters(x,y, color=random.choice(['Red', 'Blue'])) for x in range(8) for y in range(4)]\n",
        "\n",
        "    for circ in electorate:\n",
        "      circ.draw(ax) # Draw the circles\n",
        "    ax.set_xlim(0, cols)     # Set axis limits after drawing rectangles\n",
        "    ax.set_ylim(0, rows)\n",
        "\n",
        "    # Set equal aspect ratio, turn off axis labels and ticks, and show the plot\n",
        "    plt.axis('equal')\n",
        "    plt.axis('off')\n",
        "    plt.show()\n",
        "\n",
        "# Call the function with a 4x8 grid\n",
        "create_colored_grid(4, 8)"
      ]
    },
    {
      "cell_type": "markdown",
      "metadata": {
        "id": "u4J0qe0doIxn"
      },
      "source": [
        "Now we have an ability to graphically represent districts, precincts and voters. Its really easy visually, to figure out what districts are majority red and majority blue.  How could we test out different districts of equivalent size to find the most advantage for red or blue districts. Imagine we have a much bigger grid than 4x8. What are the data that we need to keep track of? What are the steps to test out different combinations?  Lets brainstrom for a few minutes at [tinyurl.com/gerry507jam3](https://tinyurl.com/gerry507jam3)\n"
      ]
    },
    {
      "cell_type": "markdown",
      "metadata": {
        "id": "oC7gpXuqoIhu"
      },
      "source": []
    },
    {
      "cell_type": "code",
      "execution_count": null,
      "metadata": {},
      "outputs": [],
      "source": [
        "class Stack:\n",
        "   def __init__(self):\n",
        "        self.data = []\n",
        "        self.size = 0\n",
        "   def push(self, newData):\n",
        "        self.data.append(newData)\n",
        "        self.size += 1\n",
        "   def remove(self):\n",
        "        if self.size > 0\n",
        "            dataToUse = self.data.pop()\n",
        "            self.size -=1\n",
        "            return dataToUse\n",
        "        else:\n",
        "           print(“sorry dude, stack is empty”)\n"
      ]
    },
    {
      "cell_type": "code",
      "execution_count": null,
      "metadata": {
        "colab": {
          "base_uri": "https://localhost:8080/"
        },
        "id": "L9FoLi0GoIaI",
        "outputId": "2181affa-c0ef-4110-b9a3-d12abff4ef3d"
      },
      "outputs": [
        {
          "name": "stdout",
          "output_type": "stream",
          "text": [
            "4950\n"
          ]
        }
      ],
      "source": [
        "lis = range(100)\n",
        "def sum(lis):\n",
        "  sum = 0\n",
        "  for i in lis:\n",
        "    sum += i\n",
        "  return sum\n",
        "\n",
        "print(sum(lis))"
      ]
    },
    {
      "cell_type": "markdown",
      "metadata": {
        "id": "X0UweEfYoISY"
      },
      "source": [
        "How can we make this recursive"
      ]
    },
    {
      "cell_type": "code",
      "execution_count": null,
      "metadata": {
        "id": "WuelAzHfoIHb"
      },
      "outputs": [],
      "source": [
        "def recursive_sum(lis):\n",
        "  if len(lis) == 0:\n",
        "    return 0\n",
        "  else:\n",
        "    return lis[0] + recursive_sum(lis[1:])"
      ]
    },
    {
      "cell_type": "markdown",
      "metadata": {
        "id": "5ildf80IoH7j"
      },
      "source": [
        "fibonacci series"
      ]
    },
    {
      "cell_type": "code",
      "execution_count": 19,
      "metadata": {
        "id": "imVdysVfoHzD"
      },
      "outputs": [
        {
          "name": "stdout",
          "output_type": "stream",
          "text": [
            "55\n"
          ]
        }
      ],
      "source": [
        "def fib_iterative(n):\n",
        "  if n <= 1:\n",
        "    return n\n",
        "  else:\n",
        "    a, b = 0, 1\n",
        "    for i in range(n - 1):\n",
        "      a, b = b, a + b\n",
        "    return b\n",
        "  "
      ]
    },
    {
      "cell_type": "markdown",
      "metadata": {
        "id": "S1bg0o5KoHqK"
      },
      "source": []
    },
    {
      "cell_type": "code",
      "execution_count": null,
      "metadata": {
        "id": "WC9mTjWKBD9T"
      },
      "outputs": [],
      "source": [
        "def fib_recursive(n):\n",
        "    if n <= 1:\n",
        "        return n\n",
        "    else:\n",
        "        return fib_recursive(n-1) + fib_recursive(n-2)"
      ]
    },
    {
      "cell_type": "markdown",
      "metadata": {
        "id": "BLPO7AtUoHZF"
      },
      "source": []
    },
    {
      "cell_type": "code",
      "execution_count": null,
      "metadata": {
        "id": "Kvkqj5GrBEYT"
      },
      "outputs": [],
      "source": []
    },
    {
      "cell_type": "markdown",
      "metadata": {
        "id": "lyGVc-kYBGx0"
      },
      "source": []
    },
    {
      "cell_type": "code",
      "execution_count": null,
      "metadata": {
        "id": "FpVtWTCgBGoU"
      },
      "outputs": [],
      "source": []
    },
    {
      "cell_type": "markdown",
      "metadata": {
        "id": "13_oM1p1BGaG"
      },
      "source": []
    },
    {
      "cell_type": "code",
      "execution_count": null,
      "metadata": {
        "id": "7L1NUnFMBGQI"
      },
      "outputs": [],
      "source": []
    },
    {
      "cell_type": "markdown",
      "metadata": {
        "id": "Zwtv3xAWBGEI"
      },
      "source": []
    },
    {
      "cell_type": "code",
      "execution_count": null,
      "metadata": {
        "id": "QnVT_RfIBF3y"
      },
      "outputs": [],
      "source": []
    },
    {
      "cell_type": "markdown",
      "metadata": {
        "id": "TH2gR2-xBFju"
      },
      "source": []
    },
    {
      "cell_type": "code",
      "execution_count": null,
      "metadata": {
        "id": "uuxnkaH-BFPT"
      },
      "outputs": [],
      "source": []
    },
    {
      "cell_type": "markdown",
      "metadata": {
        "id": "nOK_QvF9oHGo"
      },
      "source": []
    },
    {
      "cell_type": "code",
      "execution_count": null,
      "metadata": {
        "colab": {
          "base_uri": "https://localhost:8080/",
          "height": 461
        },
        "id": "L9RvoUFqmfWU",
        "outputId": "8f1bf30c-4167-47a1-a312-28ba72097184"
      },
      "outputs": [
        {
          "name": "stderr",
          "output_type": "stream",
          "text": [
            "<ipython-input-17-192a6a7be620>:11: UserWarning: Setting the 'color' property will override the edgecolor or facecolor properties.\n",
            "  ax.add_patch(plt.Rectangle((x, y), 1, 1, color=colors[(i + j) % len(colors)], edgecolor='black'))\n"
          ]
        },
        {
          "data": {
            "image/png": "[encoded data removed]",
            "text/plain": [
              "<Figure size 640x480 with 1 Axes>"
            ]
          },
          "metadata": {},
          "output_type": "display_data"
        }
      ],
      "source": [
        "import matplotlib.pyplot as plt\n",
        "\n",
        "def create_colored_grid(rows, cols):\n",
        "    fig, ax = plt.subplots()     # Create a figure and axis\n",
        "    colors = ['#FF6F61', '#6B4226', '#98DDCA', '#E5A8E2']     # Define the colors you want to see\n",
        "    for i in range(rows):     # Iterate through rows and columns to create rectangles\n",
        "        for j in range(cols):\n",
        "            x = j             # Calculate the position of the rectangle\n",
        "            y = i\n",
        "            # Add a rectangle to the plot with the specified color\n",
        "            ax.add_patch(plt.Rectangle((x, y), 1, 1, facecolor=colors[(i + j) % len(colors)], edgecolor='black'))\n",
        "    ax.set_xlim(0, cols)     # Set axis limits and show the plot\n",
        "    ax.set_ylim(0, rows)\n",
        "    plt.axis('equal')\n",
        "    plt.axis('off')  # Turn off axis labels and ticks\n",
        "    plt.show()\n",
        "\n",
        "create_colored_grid(4, 8) # Call the function with a 4x8 grid\n"
      ]
    },
    {
      "cell_type": "code",
      "execution_count": null,
      "metadata": {
        "colab": {
          "base_uri": "https://localhost:8080/",
          "height": 406
        },
        "id": "rO-puDNJ8z8V",
        "outputId": "68f1424e-d56d-44a8-c016-3960fda7ab00"
      },
      "outputs": [
        {
          "data": {
            "image/png": "[encoded data removed]",
            "text/plain": [
              "<Figure size 640x480 with 1 Axes>"
            ]
          },
          "metadata": {},
          "output_type": "display_data"
        }
      ],
      "source": [
        "\n",
        "# Create a user-defined class called ColoredRectangles with a method called draw\n",
        "# what input arguments are needed?\n",
        "class ColoredRectangle:\n",
        "    def __init__(self, x, y, color):\n",
        "        self.x = x\n",
        "        self.y = y\n",
        "        self.color = color\n",
        "\n",
        "    def draw(self, ax):\n",
        "        rectangle = plt.Rectangle((self.x, self.y), 1, 1, facecolor=self.color, edgecolor='black')\n",
        "        ax.add_patch(rectangle)\n",
        "\n",
        "def create_colored_grid(rows, cols):\n",
        "    # Create a figure and axis\n",
        "    fig, ax = plt.subplots()\n",
        "\n",
        "    # Define stylish pastel colors\n",
        "    colors = ['#FF6F61', '#6B4226', '#98DDCA', '#E5A8E2']\n",
        "\n",
        "    # Create rectangles with List Comprehension\n",
        "    colored_rect = [ColoredRectangle(x,y, color=colors[x//2]) for x in range(8) for y in range(4)]\n",
        "\n",
        "    for rect in colored_rect:\n",
        "      rect.draw(ax) # Draw the rectangle\n",
        "\n",
        "    # Set equal aspect ratio, turn off axis labels and ticks, and show the plot\n",
        "    plt.axis('equal')\n",
        "    plt.axis('off')\n",
        "    plt.show()\n",
        "\n",
        "# Call the function with a 4x8 grid\n",
        "create_colored_grid(4, 8)\n"
      ]
    },
    {
      "cell_type": "code",
      "execution_count": null,
      "metadata": {
        "colab": {
          "base_uri": "https://localhost:8080/",
          "height": 430
        },
        "id": "pm1FXFvZ9cDl",
        "outputId": "3d5b4ca9-a137-4644-c890-97612d6c0771"
      },
      "outputs": [
        {
          "data": {
            "image/png": "[encoded data removed]",
            "text/plain": [
              "<Figure size 640x480 with 1 Axes>"
            ]
          },
          "metadata": {},
          "output_type": "display_data"
        }
      ],
      "source": [
        "\n",
        "# Create a user-defined class called ColoredRectangles with a method called draw\n",
        "# what input arguments are needed?\n",
        "import random as random\n",
        "class Precinct:\n",
        "    def __init__(self, x, y, color):\n",
        "        self.x = x\n",
        "        self.y = y\n",
        "        self.color = color\n",
        "\n",
        "    def draw(self, ax):\n",
        "        rectangle = plt.Rectangle((self.x, self.y), 1, 1, facecolor=self.color, edgecolor='black')\n",
        "        ax.add_patch(rectangle)\n",
        "\n",
        "class Voters:\n",
        "    def __init__(self, x, y, color):\n",
        "        self.x = x\n",
        "        self.y = y\n",
        "        self.color = color\n",
        "    def draw(self, ax):\n",
        "        ax.add_patch(plt.Circle((self.x, self.y), radius = .35, facecolor=self.color))\n",
        "\n",
        "def create_colored_grid(rows, cols):\n",
        "    fig, ax = plt.subplots()\n",
        "    colors = ['#FF6F61', '#6B4226', '#98DDCA', '#E5A8E2']\n",
        "    precincts = [Precinct(x,y, color=colors[x//2]) for x in range(8) for y in range(4)]\n",
        "    for rect in precincts:\n",
        "      rect.draw(ax) # Draw the rectangle\n",
        "\n",
        "    electorate = [Voters(a+.5,b+.5, color = random.choice([\"Blue\", \"Red\"])) for a in range(8) for b in range(4)]\n",
        "    for v in electorate:\n",
        "      v.draw(ax)\n",
        "    plt.axis('equal')\n",
        "    plt.show()\n",
        "create_colored_grid(4, 8)"
      ]
    },
    {
      "cell_type": "code",
      "execution_count": null,
      "metadata": {
        "colab": {
          "base_uri": "https://localhost:8080/"
        },
        "id": "oVhvUqhE_vnU",
        "outputId": "2dc2857b-2109-4c78-969b-ed7b562d8250"
      },
      "outputs": [
        {
          "data": {
            "text/plain": [
              "5"
            ]
          },
          "execution_count": 30,
          "metadata": {},
          "output_type": "execute_result"
        }
      ],
      "source": [
        "random.choice([1, 5])"
      ]
    }
  ],
  "metadata": {
    "colab": {
      "provenance": []
    },
    "kernelspec": {
      "display_name": "Python 3",
      "name": "python3"
    },
    "language_info": {
      "codemirror_mode": {
        "name": "ipython",
        "version": 3
      },
      "file_extension": ".py",
      "mimetype": "text/x-python",
      "name": "python",
      "nbconvert_exporter": "python",
      "pygments_lexer": "ipython3",
      "version": "3.11.7"
    }
  },
  "nbformat": 4,
  "nbformat_minor": 0
}
