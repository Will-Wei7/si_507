{
  "cells": [
    {
      "cell_type": "markdown",
      "metadata": {
        "id": "5m1bkbPua8ll"
      },
      "source": [
        "# [tinyurl.com/LinkedList507](https://tinyurl.com/LinkedList507)"
      ]
    },
    {
      "cell_type": "code",
      "execution_count": 31,
      "metadata": {
        "id": "ex5qhpdOaxix"
      },
      "outputs": [
        {
          "name": "stdout",
          "output_type": "stream",
          "text": [
            "7\n",
            "done\n"
          ]
        }
      ],
      "source": [
        "n = 500000\n",
        "\n",
        "list_1 = []\n",
        "list_2 = []\n",
        "\n",
        "for x in range(n):\n",
        "  list_1.insert(x, 7)\n",
        "\n",
        "print(list_1[0])\n",
        "print(\"done\")"
      ]
    },
    {
      "cell_type": "code",
      "execution_count": 28,
      "metadata": {
        "id": "EAcKpG-mlOkD"
      },
      "outputs": [
        {
          "ename": "KeyboardInterrupt",
          "evalue": "",
          "output_type": "error",
          "traceback": [
            "\u001b[0;31m---------------------------------------------------------------------------\u001b[0m",
            "\u001b[0;31mKeyboardInterrupt\u001b[0m                         Traceback (most recent call last)",
            "Cell \u001b[0;32mIn[28], line 2\u001b[0m\n\u001b[1;32m      1\u001b[0m \u001b[38;5;28;01mfor\u001b[39;00m x \u001b[38;5;129;01min\u001b[39;00m \u001b[38;5;28mrange\u001b[39m(n):\n\u001b[0;32m----> 2\u001b[0m   list_1\u001b[38;5;241m.\u001b[39minsert(x, \u001b[38;5;241m7\u001b[39m)\n\u001b[1;32m      4\u001b[0m \u001b[38;5;28mprint\u001b[39m(\u001b[38;5;124m\"\u001b[39m\u001b[38;5;124mdone\u001b[39m\u001b[38;5;124m\"\u001b[39m)\n",
            "\u001b[0;31mKeyboardInterrupt\u001b[0m: "
          ]
        }
      ],
      "source": [
        "for x in range(n):\n",
        "  list_1.insert(x, 7)\n",
        "\n",
        "print(\"done\")"
      ]
    },
    {
      "cell_type": "code",
      "execution_count": 32,
      "metadata": {
        "id": "jZDqk6UhlbqG"
      },
      "outputs": [
        {
          "ename": "KeyboardInterrupt",
          "evalue": "",
          "output_type": "error",
          "traceback": [
            "\u001b[0;31m---------------------------------------------------------------------------\u001b[0m",
            "\u001b[0;31mKeyboardInterrupt\u001b[0m                         Traceback (most recent call last)",
            "Cell \u001b[0;32mIn[32], line 2\u001b[0m\n\u001b[1;32m      1\u001b[0m \u001b[38;5;28;01mfor\u001b[39;00m x \u001b[38;5;129;01min\u001b[39;00m \u001b[38;5;28mrange\u001b[39m(n):\n\u001b[0;32m----> 2\u001b[0m   list_2\u001b[38;5;241m.\u001b[39minsert(\u001b[38;5;241m0\u001b[39m, \u001b[38;5;241m7\u001b[39m)\n",
            "\u001b[0;31mKeyboardInterrupt\u001b[0m: "
          ]
        }
      ],
      "source": [
        "for x in range(n):\n",
        "  list_2.insert(0, 7)"
      ]
    },
    {
      "cell_type": "code",
      "execution_count": 33,
      "metadata": {
        "id": "mhiZ_zbumI6f"
      },
      "outputs": [],
      "source": [
        "#### develop a linked list\n",
        "\n",
        "class Node:\n",
        "  def __init__(self, initialData):\n",
        "    self.data = initialData\n",
        "    self.next = None\n",
        "\n",
        "  def setNext(self, newnext):\n",
        "    self.next = newnext\n",
        "\n",
        "  def setData(self, newData):\n",
        "    self.data = newData\n",
        "\n",
        "  def getData(self):\n",
        "    return self.data\n",
        "\n",
        "  def getNext(self):\n",
        "    return self.next\n",
        "\n"
      ]
    },
    {
      "cell_type": "code",
      "execution_count": 9,
      "metadata": {
        "id": "jcJ9rVFopgxk"
      },
      "outputs": [],
      "source": [
        "node1 = Node(initialData = \"Monday\")\n",
        "node2 = Node(initialData = \"Tuesday\")"
      ]
    },
    {
      "cell_type": "code",
      "execution_count": 10,
      "metadata": {
        "colab": {
          "base_uri": "https://localhost:8080/"
        },
        "id": "WZ2q-EcyrbI8",
        "outputId": "8244d0c2-9468-4ff1-a918-7f1a459f7193"
      },
      "outputs": [
        {
          "name": "stdout",
          "output_type": "stream",
          "text": [
            "<__main__.Node object at 0x10a1d7b90>\n",
            "<__main__.Node object at 0x1099f3c50>\n"
          ]
        }
      ],
      "source": [
        "print(node1)\n",
        "print(node2)"
      ]
    },
    {
      "cell_type": "code",
      "execution_count": 12,
      "metadata": {
        "colab": {
          "base_uri": "https://localhost:8080/"
        },
        "id": "PWb0GoSK31E7",
        "outputId": "3f51a85f-13fd-4411-b4d4-f1cfdcaa42dc"
      },
      "outputs": [
        {
          "name": "stdout",
          "output_type": "stream",
          "text": [
            "None\n"
          ]
        }
      ],
      "source": [
        "print(node1.next)"
      ]
    },
    {
      "cell_type": "code",
      "execution_count": null,
      "metadata": {
        "id": "QyPJaP4tpr4E"
      },
      "outputs": [],
      "source": [
        "node1.setNext(node2)"
      ]
    },
    {
      "cell_type": "code",
      "execution_count": 13,
      "metadata": {
        "colab": {
          "base_uri": "https://localhost:8080/"
        },
        "id": "zI8vgh3YrDAQ",
        "outputId": "b6e35468-1c3c-4d43-8ea9-69d9a59dd9d3"
      },
      "outputs": [
        {
          "name": "stdout",
          "output_type": "stream",
          "text": [
            "None\n"
          ]
        }
      ],
      "source": [
        "print(node1.next)"
      ]
    },
    {
      "cell_type": "code",
      "execution_count": 14,
      "metadata": {
        "id": "EEYte-2creEu"
      },
      "outputs": [
        {
          "name": "stdout",
          "output_type": "stream",
          "text": [
            "<__main__.Node object at 0x1099f3c50>\n"
          ]
        }
      ],
      "source": [
        "print(node2)"
      ]
    },
    {
      "cell_type": "code",
      "execution_count": 15,
      "metadata": {
        "id": "cXC03d72rOZj"
      },
      "outputs": [
        {
          "name": "stdout",
          "output_type": "stream",
          "text": [
            "None\n"
          ]
        }
      ],
      "source": [
        "print(node2.next)"
      ]
    },
    {
      "cell_type": "code",
      "execution_count": 34,
      "metadata": {
        "id": "ZE-rZeT7r6Q9"
      },
      "outputs": [],
      "source": [
        "class LinkedList():\n",
        "  def __init__(self):\n",
        "    self.head = None\n",
        "\n",
        "  def append(self, NodeToAdd):\n",
        "    if self.head == None:\n",
        "      self.head = NodeToAdd\n",
        "    else:\n",
        "      last_node = self.head\n",
        "      while last_node.next:\n",
        "        last_node = last_node.next\n",
        "      last_node.next = NodeToAdd\n",
        "\n",
        "  def replace(self, oldNodeData, newNodeData):\n",
        "    newNode = Node(newNodeData)\n",
        "    if self.head.data == oldNodeData:\n",
        "      newNode.next = self.head.next\n",
        "      self.head = newNode\n",
        "    else: # this block has 1 mistake\n",
        "      current_node = self.head\n",
        "      while current_node.next.data is not oldNodeData:\n",
        "        current_node = current_node.next\n",
        "      print(current_node.next.next)\n",
        "      newNode.next = current_node.next.next\n",
        "      current_node.next = newNode.next\n",
        "      # we should delete teh old Node for completeness but this is the important part\n",
        "\n",
        "  def print_list(self):\n",
        "    current_node = self.head\n",
        "    while current_node is not None:\n",
        "        print(current_node.data)\n",
        "        current_node = current_node.next\n",
        "\n",
        "\n",
        "\n"
      ]
    },
    {
      "cell_type": "code",
      "execution_count": 37,
      "metadata": {
        "id": "RdtJu9h_MPdV"
      },
      "outputs": [
        {
          "name": "stdout",
          "output_type": "stream",
          "text": [
            "Monday\n",
            "Tuesday\n",
            "Wednesday\n"
          ]
        }
      ],
      "source": [
        "week = LinkedList()\n",
        "node1 = Node(initialData = \"Monday\")\n",
        "node2 = Node(initialData = \"Tuesday\")\n",
        "\n",
        "week.append(node1)\n",
        "week.append(node2)\n",
        "week.append(Node(\"Wednesday\"))\n",
        "week.print_list()\n"
      ]
    },
    {
      "cell_type": "code",
      "execution_count": null,
      "metadata": {
        "id": "DkQpELjmZYdD"
      },
      "outputs": [],
      "source": [
        "week.replace(\"Monday\", \"McDonalds Monday\")\n",
        "week.print_list()"
      ]
    },
    {
      "cell_type": "code",
      "execution_count": null,
      "metadata": {
        "id": "NFsKnTFbYTOX"
      },
      "outputs": [],
      "source": [
        "week.replace(\"Tuesday\", \"Taco Tuesday\")\n",
        "week.print_list()"
      ]
    }
  ],
  "metadata": {
    "colab": {
      "provenance": []
    },
    "kernelspec": {
      "display_name": "Python 3",
      "name": "python3"
    },
    "language_info": {
      "codemirror_mode": {
        "name": "ipython",
        "version": 3
      },
      "file_extension": ".py",
      "mimetype": "text/x-python",
      "name": "python",
      "nbconvert_exporter": "python",
      "pygments_lexer": "ipython3",
      "version": "3.11.7"
    }
  },
  "nbformat": 4,
  "nbformat_minor": 0
}
